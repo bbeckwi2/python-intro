{
 "cells": [
  {
   "cell_type": "markdown",
   "metadata": {},
   "source": [
    "# Comprehensions\n",
    "\n",
    "In Python there are a lot of useful shorthands for longer expressions. Lets say we had a list of names and we wanted a list of names that contained the letter 'w'. Normally the code would look similar to the code below."
   ]
  },
  {
   "cell_type": "code",
   "execution_count": 28,
   "metadata": {},
   "outputs": [
    {
     "name": "stdout",
     "output_type": "stream",
     "text": [
      "['Janeway']\n"
     ]
    }
   ],
   "source": [
    "names = [\"Kirk\", \"Picard\", \"Seisko\", \"Janeway\"]\n",
    "\n",
    "containW = [] # Make a new list\n",
    "\n",
    "for n in names: # Iterate over our names\n",
    "    if 'w' in n: # Check for w\n",
    "        containW.append(n) # Add\n",
    "\n",
    "print(containW)"
   ]
  },
  {
   "cell_type": "markdown",
   "metadata": {},
   "source": [
    "That's a lot of code for such a simple concept. There has to be a better way. There is, [List Comprehensions](https://docs.python.org/3/tutorial/datastructures.html#list-comprehensions)"
   ]
  },
  {
   "cell_type": "markdown",
   "metadata": {},
   "source": [
    "## List Comphrehensions\n",
    "\n",
    "List Comprehensions are a shorthand for generating new lists and are very powerful. For example, let's say we wanted a list of numbers from 1 to 10, but we wanted each of them squared."
   ]
  },
  {
   "cell_type": "code",
   "execution_count": 29,
   "metadata": {},
   "outputs": [
    {
     "name": "stdout",
     "output_type": "stream",
     "text": [
      "[1, 4, 9, 16, 25, 36, 49, 64, 81, 100]\n"
     ]
    }
   ],
   "source": [
    "a = [x * x for x in range(1, 11)]\n",
    "\n",
    "print(a)"
   ]
  },
  {
   "cell_type": "markdown",
   "metadata": {},
   "source": [
    "It's like magic! At first glance the list comprehension above might seem a bit complicated, but it's relatively simple. \n",
    "\n",
    "First we have the list declaration `[]`, which indicates that we are making a list. Next we have the iterator `range(1,11)`, which iterates from 1 to 10. (If it helps you, you can think of range(1,11) as just another list containing the numbers 1 - 10). The numbers from the iterator are fed into a for loop, which assigns each value to the variable `x`. We use the variable `x` *in front of* the `for loop` to add the value to the list. Notice that `x` is multiplied by itself so we get the square of the numbers. You can perform any operation in front of the `for` and the resulting value will be `appended` to the list.\n"
   ]
  },
  {
   "cell_type": "code",
   "execution_count": 30,
   "metadata": {},
   "outputs": [
    {
     "name": "stdout",
     "output_type": "stream",
     "text": [
      "[None, None, None, None, None, None, None, None, None, None]\n",
      "['Apple', 'Apple', 'Apple', 'Apple', 'Apple', 'Apple', 'Apple', 'Apple', 'Apple', 'Apple']\n",
      "[<class 'int'>, <class 'str'>]\n"
     ]
    }
   ],
   "source": [
    "a = [ None for x in range(1, 11)]\n",
    "print(a) # A list of Nones\n",
    "\n",
    "a = [ \"Apple\" for x in range(1, 11)]\n",
    "print(a) # A list of apples\n",
    "\n",
    "print([type(x) for x in [10, \"ten\"]])# A list of types!"
   ]
  },
  {
   "cell_type": "markdown",
   "metadata": {},
   "source": [
    "List comprehensions are *very powerful* tools for applying the same operation to each element in a list while generating a new list. The magic doesn't stop there though, we can also use conditional statements to select elements and include or exclude them."
   ]
  },
  {
   "cell_type": "code",
   "execution_count": 31,
   "metadata": {},
   "outputs": [
    {
     "name": "stdout",
     "output_type": "stream",
     "text": [
      "[1, 4, 9, 16, 25, 36, 49, 64, 81, 100]\n"
     ]
    }
   ],
   "source": [
    "a = [x * x for x in range(1, 11) ] # We can add an if statement that filters out odd numbers!\n",
    "\n",
    "print(a)"
   ]
  },
  {
   "cell_type": "markdown",
   "metadata": {},
   "source": [
    "Notice that the `if` statement uses a similar format as an *if expression*. When using conditionals in a list comprehension note that if you're using *if* without *else* the condition will come after the *for* loop as seen above. If you're using both *if* and *else* then it will come before as seen below."
   ]
  },
  {
   "cell_type": "code",
   "execution_count": 32,
   "metadata": {},
   "outputs": [
    {
     "name": "stdout",
     "output_type": "stream",
     "text": [
      "[1, 4, 3, 16, 5, 36, 7, 64, 9, 100]\n"
     ]
    }
   ],
   "source": [
    "a = [x * x if x % 2 == 0 else x for x in range(1, 11)] # IfElse comes before the for loop\n",
    "\n",
    "print(a)"
   ]
  },
  {
   "cell_type": "markdown",
   "metadata": {},
   "source": [
    "List comprehensions can be nested together. This is really useful for generating multidimensional arrays, but can get very confusing very quickly. "
   ]
  },
  {
   "cell_type": "code",
   "execution_count": 33,
   "metadata": {},
   "outputs": [
    {
     "name": "stdout",
     "output_type": "stream",
     "text": [
      "[[], [1], [1, 2], [1, 2, 3], [1, 2, 3, 4], [1, 2, 3, 4, 5], [1, 2, 3, 4, 5, 6], [1, 2, 3, 4, 5, 6, 7], [1, 2, 3, 4, 5, 6, 7, 8], [1, 2, 3, 4, 5, 6, 7, 8, 9]]\n"
     ]
    }
   ],
   "source": [
    "a = [[y for y in range(1, x)] for x in range(1, 11)] # Notice that we can use x in the other generator\n",
    "\n",
    "print(a)"
   ]
  },
  {
   "cell_type": "markdown",
   "metadata": {},
   "source": [
    "Of course you can use if statements in either comprehension. Again be careful. The more you add to a list comprehension the harder it will be to read and debug. "
   ]
  },
  {
   "cell_type": "code",
   "execution_count": 34,
   "metadata": {},
   "outputs": [
    {
     "name": "stdout",
     "output_type": "stream",
     "text": [
      "[[1], [1, 3], [1, 3, 5], [1, 3, 5, 7], [1, 3, 5, 7, 9]]\n"
     ]
    }
   ],
   "source": [
    "a = [[y for y in range(1, x) if y % 2 == 1] for x in range(1, 11) if x % 2 == 0 ] # Only use even numbers to fill arrays with odd numbers\n",
    "\n",
    "print(a)"
   ]
  },
  {
   "cell_type": "markdown",
   "metadata": {},
   "source": [
    "# Applying it to our example\n",
    "Now that we understand the syntax and how list comprehensions work we can apply our knowledge to our original task.\n"
   ]
  },
  {
   "cell_type": "code",
   "execution_count": 35,
   "metadata": {},
   "outputs": [
    {
     "name": "stdout",
     "output_type": "stream",
     "text": [
      "['Janeway']\n",
      "['Janeway']\n"
     ]
    }
   ],
   "source": [
    "\n",
    "names = [\"Kirk\", \"Picard\", \"Seisko\", \"Janeway\"]\n",
    "\n",
    "# The original method\n",
    "containW = [] # Make a new list\n",
    "\n",
    "for n in names: # Iterate over our names\n",
    "    if 'w' in n: # Check for w\n",
    "        containW.append(n) # Add\n",
    "\n",
    "print(containW)\n",
    "\n",
    "# Using a list comprehension\n",
    "\n",
    "newContainW = [n for n in (names) if 'w' in n] # Much shorter and just as clear!\n",
    "\n",
    "print(newContainW)"
   ]
  },
  {
   "cell_type": "markdown",
   "metadata": {},
   "source": [
    "# Dictionary Comprehensions\n",
    "\n",
    "Of course we can apply this to other data structures like dictionaries. The syntax is very similar, but uses curly braces and colons to denote key, value pairs."
   ]
  },
  {
   "cell_type": "code",
   "execution_count": 36,
   "metadata": {},
   "outputs": [
    {
     "name": "stdout",
     "output_type": "stream",
     "text": [
      "{'cats': 1, 'dogs': 2, 'fish': 12}\n",
      "{'cats': 2, 'dogs': 4, 'fish': 24}\n"
     ]
    }
   ],
   "source": [
    "pets = {\"cats\": 1, \"dogs\": 2, \"fish\" : 12}\n",
    "\n",
    "morePets = {k: v * 2 for k, v in pets.items()} # Note the k:V syntax for assignment and the items() to get the iterator\n",
    "\n",
    "print(pets)\n",
    "print(morePets)"
   ]
  }
 ],
 "metadata": {
  "kernelspec": {
   "display_name": "Python 3.9.12 ('base')",
   "language": "python",
   "name": "python3"
  },
  "language_info": {
   "codemirror_mode": {
    "name": "ipython",
    "version": 3
   },
   "file_extension": ".py",
   "mimetype": "text/x-python",
   "name": "python",
   "nbconvert_exporter": "python",
   "pygments_lexer": "ipython3",
   "version": "3.9.12"
  },
  "orig_nbformat": 4,
  "vscode": {
   "interpreter": {
    "hash": "d4d1e4263499bec80672ea0156c357c1ee493ec2b1c70f0acce89fc37c4a6abe"
   }
  }
 },
 "nbformat": 4,
 "nbformat_minor": 2
}

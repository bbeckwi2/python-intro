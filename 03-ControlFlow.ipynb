{
 "cells": [
  {
   "cell_type": "markdown",
   "metadata": {},
   "source": [
    "# Control Flow\n",
    "\n",
    "Control flow refers to the order in which statements of code get executed. For example, an if statement can be used to determine if a block of code gets ran or not."
   ]
  },
  {
   "cell_type": "markdown",
   "metadata": {},
   "source": [
    "# Conditional Statements\n",
    "Conditional statements in Python are very similar to other languages. The key difference is in how they are structured."
   ]
  },
  {
   "cell_type": "code",
   "execution_count": 1,
   "metadata": {},
   "outputs": [
    {
     "name": "stdout",
     "output_type": "stream",
     "text": [
      "We did it!\n",
      "Yes, we did it!\n"
     ]
    }
   ],
   "source": [
    "a = True\n",
    "\n",
    "if a: # This is the start of an if statement\n",
    "    print(\"We did it!\")\n",
    "\n",
    "    # The if statement will continue for as long as we remain indented\n",
    "\n",
    "    print(\"Yes, we did it!\")\n",
    "    \n",
    "# Stepped out of the if statement"
   ]
  },
  {
   "cell_type": "markdown",
   "metadata": {},
   "source": [
    "What about `else` and `elseif`?\n",
    "\n",
    "Else is pretty much what you would expect."
   ]
  },
  {
   "cell_type": "code",
   "execution_count": 2,
   "metadata": {},
   "outputs": [
    {
     "name": "stdout",
     "output_type": "stream",
     "text": [
      "a was false!\n"
     ]
    }
   ],
   "source": [
    "a = False\n",
    "\n",
    "if a:\n",
    "    print(\"a was true!\")\n",
    "else:\n",
    "    print(\"a was false!\")"
   ]
  },
  {
   "cell_type": "markdown",
   "metadata": {},
   "source": [
    "Elseif on the other hand uses a shorten form, `elif`. Note that you can have as many `elif`s as you want."
   ]
  },
  {
   "cell_type": "code",
   "execution_count": 4,
   "metadata": {},
   "outputs": [
    {
     "name": "stdout",
     "output_type": "stream",
     "text": [
      "A was two\n"
     ]
    }
   ],
   "source": [
    "a = 2\n",
    "\n",
    "if a == 1:\n",
    "    print(\"A was one\")\n",
    "elif a == 2:\n",
    "    print(\"A was two\")\n",
    "else:\n",
    "    print(\"I can only count to two so I have no idea.\")"
   ]
  },
  {
   "cell_type": "markdown",
   "metadata": {},
   "source": [
    "## Equivalence\n",
    "\n",
    "The `==` operator, as shown above, is used to check for equivalence. It can be used with numbers, objects, lists, sets, ... etc. "
   ]
  },
  {
   "cell_type": "code",
   "execution_count": 5,
   "metadata": {},
   "outputs": [
    {
     "name": "stdout",
     "output_type": "stream",
     "text": [
      "True\n",
      "False\n",
      "True\n",
      "True\n"
     ]
    }
   ],
   "source": [
    "print(1 == 1)\n",
    "print(\"cat\" == \"dog\")\n",
    "print(\"fish\" == \"fish\")\n",
    "print([1, 2] == [1, 2])"
   ]
  },
  {
   "cell_type": "markdown",
   "metadata": {},
   "source": [
    "We can check for non-equivalence by using `!=`."
   ]
  },
  {
   "cell_type": "code",
   "execution_count": 6,
   "metadata": {},
   "outputs": [
    {
     "name": "stdout",
     "output_type": "stream",
     "text": [
      "False\n",
      "True\n",
      "False\n",
      "False\n"
     ]
    }
   ],
   "source": [
    "print(1 != 1)\n",
    "print(\"cat\" != \"dog\")\n",
    "print(\"fish\" != \"fish\")\n",
    "print([1, 2] != [1, 2])"
   ]
  },
  {
   "cell_type": "markdown",
   "metadata": {},
   "source": [
    "Or we can negate or 'invert' a boolean result by using `not`, which is the same as checking for non-equivalence."
   ]
  },
  {
   "cell_type": "code",
   "execution_count": 7,
   "metadata": {},
   "outputs": [
    {
     "name": "stdout",
     "output_type": "stream",
     "text": [
      "False\n",
      "True\n",
      "False\n",
      "False\n"
     ]
    }
   ],
   "source": [
    "print(not 1 == 1)\n",
    "print(not \"cat\" == \"dog\")\n",
    "print(not \"fish\" == \"fish\")\n",
    "print(not [1, 2] == [1, 2])"
   ]
  },
  {
   "cell_type": "markdown",
   "metadata": {},
   "source": [
    "Of course we have `>`, `<`, `>=` and `<=`."
   ]
  },
  {
   "cell_type": "code",
   "execution_count": 8,
   "metadata": {},
   "outputs": [
    {
     "name": "stdout",
     "output_type": "stream",
     "text": [
      "True\n",
      "False\n",
      "True\n",
      "True\n"
     ]
    }
   ],
   "source": [
    "print(1 > 0)\n",
    "print(1 < 0)\n",
    "print(1 >= 0)\n",
    "print(1 <= 1)"
   ]
  },
  {
   "cell_type": "markdown",
   "metadata": {},
   "source": [
    "## And & Or"
   ]
  },
  {
   "cell_type": "markdown",
   "metadata": {},
   "source": [
    "If we want to check if two statements are true we use `and`."
   ]
  },
  {
   "cell_type": "code",
   "execution_count": 9,
   "metadata": {},
   "outputs": [
    {
     "name": "stdout",
     "output_type": "stream",
     "text": [
      "True\n"
     ]
    }
   ],
   "source": [
    "print(1 == 1 and 2 == 2)"
   ]
  },
  {
   "cell_type": "markdown",
   "metadata": {},
   "source": [
    "If we want to check if either statement is true we use `or`"
   ]
  },
  {
   "cell_type": "code",
   "execution_count": 10,
   "metadata": {},
   "outputs": [
    {
     "name": "stdout",
     "output_type": "stream",
     "text": [
      "True\n"
     ]
    }
   ],
   "source": [
    "print(1 == 0 or 1 == 1)"
   ]
  },
  {
   "cell_type": "markdown",
   "metadata": {},
   "source": [
    "# If Expression\n",
    "\n",
    "If expressions are essentially one line if statements that can provide a value. If you're familiar with ternary operators you will feel right at home here."
   ]
  },
  {
   "cell_type": "code",
   "execution_count": 12,
   "metadata": {},
   "outputs": [
    {
     "name": "stdout",
     "output_type": "stream",
     "text": [
      "one\n",
      "two\n"
     ]
    }
   ],
   "source": [
    "a = \"one\" if 1 == 1 else \"two\" # Essentially X if condition else Y\n",
    "b = \"one\" if 2 == 1 else \"two\"\n",
    "\n",
    "print(a)\n",
    "print(b)"
   ]
  },
  {
   "cell_type": "markdown",
   "metadata": {},
   "source": [
    "## While Loop\n",
    "\n",
    "Continue running the code in the block `while` a condition is true"
   ]
  },
  {
   "cell_type": "code",
   "execution_count": 13,
   "metadata": {},
   "outputs": [
    {
     "name": "stdout",
     "output_type": "stream",
     "text": [
      "0\n",
      "1\n",
      "2\n",
      "3\n",
      "4\n"
     ]
    }
   ],
   "source": [
    "a = 0\n",
    "\n",
    "while a < 5:\n",
    "    print(a)\n",
    "    a += 1 # You can add +,-,*,/ before an equal sign as a short hand for a = a + 1"
   ]
  },
  {
   "cell_type": "markdown",
   "metadata": {},
   "source": [
    "You can use `break` to exit out of any loop early"
   ]
  },
  {
   "cell_type": "code",
   "execution_count": 14,
   "metadata": {},
   "outputs": [
    {
     "name": "stdout",
     "output_type": "stream",
     "text": [
      "Yay!\n"
     ]
    }
   ],
   "source": [
    "\n",
    "while True: # Normally an infinite loop\n",
    "    print(\"Yay!\")\n",
    "    break # But this stops it after one iteration"
   ]
  },
  {
   "cell_type": "markdown",
   "metadata": {},
   "source": [
    "# For Loop\n",
    "For loops function differently than most other languages, they make use of `iterators`. For now we will focus on how to use for loops and then touch on iterators after. For loops can be given a list that they will iterate over."
   ]
  },
  {
   "cell_type": "code",
   "execution_count": 15,
   "metadata": {},
   "outputs": [
    {
     "name": "stdout",
     "output_type": "stream",
     "text": [
      "1\n",
      "2\n",
      "3\n",
      "4\n"
     ]
    }
   ],
   "source": [
    "for i in [1,2,3,4]:\n",
    "    print(i)"
   ]
  },
  {
   "cell_type": "markdown",
   "metadata": {},
   "source": [
    "It doesn't matter what the data type is, for loops will iterate over it. We can even perform basic operations."
   ]
  },
  {
   "cell_type": "code",
   "execution_count": 16,
   "metadata": {},
   "outputs": [
    {
     "name": "stdout",
     "output_type": "stream",
     "text": [
      "Strings-that\n",
      "have-spaces\n",
      "in-them.\n"
     ]
    }
   ],
   "source": [
    "for i in [\"Strings that\", \"have spaces\", \"in them.\"]:\n",
    "    print(i.replace(\" \", \"-\"))"
   ]
  },
  {
   "cell_type": "markdown",
   "metadata": {},
   "source": [
    "What about dictionaries? We just assign two variables and use `items()` to get the keys and values for the for loop."
   ]
  },
  {
   "cell_type": "code",
   "execution_count": 19,
   "metadata": {},
   "outputs": [
    {
     "name": "stdout",
     "output_type": "stream",
     "text": [
      "There are 12 cats\n",
      "There are 10 dogs\n",
      "There are 5 birds\n"
     ]
    }
   ],
   "source": [
    "d = {\"cat\": 12, \"dog\": 10, \"bird\" : 5} # Make a simple dictionary\n",
    "\n",
    "for k,v in d.items(): # \n",
    "    print(\"There are %d %ss\" % (v, k)) #A bit of fancy formatting"
   ]
  },
  {
   "cell_type": "markdown",
   "metadata": {},
   "source": [
    "We can also 'skip over' iterations by using the `continue` keyword. Instead of breaking out of the loop, we return to the top of the for loop at the start of the next iteration."
   ]
  },
  {
   "cell_type": "code",
   "execution_count": 20,
   "metadata": {},
   "outputs": [
    {
     "name": "stdout",
     "output_type": "stream",
     "text": [
      "There are 12 cats\n",
      "There are 5 birds\n"
     ]
    }
   ],
   "source": [
    "d = {\"cat\": 12, \"dog\": 10, \"bird\" : 5} # Make a simple dictionary\n",
    "\n",
    "for k,v in d.items(): \n",
    "\n",
    "    if k == \"dog\": # If we see 'dog' go to the next iteration now so we don't print them.\n",
    "        continue\n",
    "    \n",
    "    print(\"There are %d %ss\" % (v, k)) #A bit of fancy formatting"
   ]
  },
  {
   "cell_type": "markdown",
   "metadata": {},
   "source": [
    "### Iterators\n",
    "Iterators are objects representing a stream of data. They possess a `__next__()` method which returns the next element in the stream. You can use `iter()` to create an iterator. However, some functions create iterators for you. Remember the `dict.items()` calls we made above? `.items()` returns an iterator. \n",
    "\n",
    "Some example functions that return iterators:\n",
    " - `map()`\n",
    " - `zip()`\n",
    " - `range()`\n",
    " - `dict.items()`\n",
    " - `dict.keys()`\n",
    "\n",
    " Let's take a look at `range` since we can use it to loop over a range of numbers. For more information on range click [here](https://docs.python.org/3/library/functions.html#func-range)"
   ]
  },
  {
   "cell_type": "code",
   "execution_count": 22,
   "metadata": {},
   "outputs": [
    {
     "name": "stdout",
     "output_type": "stream",
     "text": [
      "[0, 1, 2, 3, 4, 5, 6, 7, 8, 9, 10, 11, 12, 13, 14, 15, 16, 17, 18, 19, 20, 21, 22, 23]\n"
     ]
    }
   ],
   "source": [
    "a = []\n",
    "\n",
    "for i in range(24): # range is exclusive, meaning we will go from 0 to 23\n",
    "    a.append(i)\n",
    "\n",
    "print(a)"
   ]
  },
  {
   "cell_type": "markdown",
   "metadata": {},
   "source": [
    "We can combine `len()` and `range()` to get the indices of a list. This can be useful when you need to know your position in a list."
   ]
  },
  {
   "cell_type": "code",
   "execution_count": 1,
   "metadata": {},
   "outputs": [
    {
     "name": "stdout",
     "output_type": "stream",
     "text": [
      "1\n",
      "2\n",
      "3\n",
      "4\n"
     ]
    }
   ],
   "source": [
    "a = [1, 2, 3, 4]\n",
    "\n",
    "for i in range(len(a)):\n",
    "    print(a[i])"
   ]
  }
 ],
 "metadata": {
  "kernelspec": {
   "display_name": "Python 3.9.12 ('base')",
   "language": "python",
   "name": "python3"
  },
  "language_info": {
   "codemirror_mode": {
    "name": "ipython",
    "version": 3
   },
   "file_extension": ".py",
   "mimetype": "text/x-python",
   "name": "python",
   "nbconvert_exporter": "python",
   "pygments_lexer": "ipython3",
   "version": "3.9.12"
  },
  "orig_nbformat": 4,
  "vscode": {
   "interpreter": {
    "hash": "d4d1e4263499bec80672ea0156c357c1ee493ec2b1c70f0acce89fc37c4a6abe"
   }
  }
 },
 "nbformat": 4,
 "nbformat_minor": 2
}

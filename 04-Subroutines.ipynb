{
 "cells": [
  {
   "cell_type": "markdown",
   "metadata": {},
   "source": [
    "# Subroutines\n",
    "Subroutines are essentially a series of instructions that are grouped together in a unit that can be called elsewhere in a program. In Python we use functions, for non object oriented calls, and methods."
   ]
  },
  {
   "cell_type": "markdown",
   "metadata": {},
   "source": [
    "# Functions\n",
    "We use `def` to **def**ine functions in Python."
   ]
  },
  {
   "cell_type": "code",
   "execution_count": 2,
   "metadata": {},
   "outputs": [
    {
     "name": "stdout",
     "output_type": "stream",
     "text": [
      "Hello World!\n",
      "<function hello at 0x7fca083f5430>\n",
      "Hello World!\n",
      "None\n"
     ]
    }
   ],
   "source": [
    "def hello(): # Define the function\n",
    "    print(\"Hello World!\")\n",
    "\n",
    "# Function ends when we go back an indent\n",
    "\n",
    "hello() # Call the function\n",
    "\n",
    "print(hello) # If we pass a function as if it were a variable Python will tell us what it is\n",
    "\n",
    "print(hello()) # If we call our function, which returns nothing, None will be returned instead."
   ]
  },
  {
   "cell_type": "markdown",
   "metadata": {},
   "source": [
    "When defining arguments we can seperate them using commas."
   ]
  },
  {
   "cell_type": "code",
   "execution_count": 3,
   "metadata": {},
   "outputs": [
    {
     "name": "stdout",
     "output_type": "stream",
     "text": [
      "3\n"
     ]
    }
   ],
   "source": [
    "def addPrint(arg1, arg2):\n",
    "    print(arg1 + arg2)\n",
    "\n",
    "addPrint(1, 2)"
   ]
  },
  {
   "cell_type": "markdown",
   "metadata": {},
   "source": [
    "If we don't pass arguments and they are used we will run into an error."
   ]
  },
  {
   "cell_type": "code",
   "execution_count": 4,
   "metadata": {},
   "outputs": [
    {
     "ename": "TypeError",
     "evalue": "addPrint() missing 2 required positional arguments: 'arg1' and 'arg2'",
     "output_type": "error",
     "traceback": [
      "\u001b[0;31m---------------------------------------------------------------------------\u001b[0m",
      "\u001b[0;31mTypeError\u001b[0m                                 Traceback (most recent call last)",
      "\u001b[1;32m/workspaces/python-intro/04-Subroutines.ipynb Cell 7\u001b[0m in \u001b[0;36m<cell line: 1>\u001b[0;34m()\u001b[0m\n\u001b[0;32m----> <a href='vscode-notebook-cell://dev-container%2B2f686f6d652f616f776f6c6669652f70726f6772616d6d696e672f707974686f6e2f707974686f6e2d696e74726f/workspaces/python-intro/04-Subroutines.ipynb#X12sdnNjb2RlLXJlbW90ZQ%3D%3D?line=0'>1</a>\u001b[0m addPrint()\n",
      "\u001b[0;31mTypeError\u001b[0m: addPrint() missing 2 required positional arguments: 'arg1' and 'arg2'"
     ]
    }
   ],
   "source": [
    "addPrint()"
   ]
  },
  {
   "cell_type": "markdown",
   "metadata": {},
   "source": [
    "To avoid this, and to provide nice defaults, we can make our parameters 'optional'. Optional parameters are just that, optional. Note that they need to have default values assigned to them. This doesn't guarentee that the type of value though."
   ]
  },
  {
   "cell_type": "code",
   "execution_count": 5,
   "metadata": {},
   "outputs": [
    {
     "name": "stdout",
     "output_type": "stream",
     "text": [
      "3\n",
      "0\n",
      "1\n",
      "CatDog\n"
     ]
    }
   ],
   "source": [
    "def addPrint(arg1 = 0, arg2 = 0): # We can set some default values so we don't need to pass every value or any at all!\n",
    "    print( arg1 + arg2)\n",
    "\n",
    "addPrint(1, 2)\n",
    "addPrint() # We can pass nothing and get zero\n",
    "addPrint(1) # Or just add one to nothing\n",
    "addPrint(\"Cat\", \"Dog\") # Doesn't check data type, you can pass whatever still"
   ]
  },
  {
   "cell_type": "markdown",
   "metadata": {},
   "source": [
    "With optional parameters you can specifiy which parameter is assigned to each argument when called."
   ]
  },
  {
   "cell_type": "code",
   "execution_count": 7,
   "metadata": {},
   "outputs": [
    {
     "name": "stdout",
     "output_type": "stream",
     "text": [
      "Arg1: \n",
      "Arg2: Hello there!\n",
      "==========\n",
      "Arg1: World!\n",
      "Arg2: Hello\n"
     ]
    }
   ],
   "source": [
    "def printThings(arg1 = \"\", arg2 = \"\"):\n",
    "    print(\"Arg1: \" + arg1)\n",
    "    print(\"Arg2: \" + arg2)\n",
    "\n",
    "printThings(arg2 = \"Hello there!\") # Assign only to arg2\n",
    "\n",
    "print(\"=\" * 10) # Tile = 10 times to make a line divider\n",
    "\n",
    "printThings(arg2 = \"Hello\", arg1 = \"World!\") # You assign them in any order!"
   ]
  },
  {
   "cell_type": "markdown",
   "metadata": {},
   "source": [
    "# Lambda Expressions\n",
    "\n",
    "Lambda expression are essentially generic, anonymous functions."
   ]
  },
  {
   "cell_type": "code",
   "execution_count": 8,
   "metadata": {},
   "outputs": [
    {
     "name": "stdout",
     "output_type": "stream",
     "text": [
      "16\n"
     ]
    }
   ],
   "source": [
    "# lambda arg1, arg2, ... : expression\n",
    "\n",
    "a = lambda x: x * x # Raise to the power of 2\n",
    "\n",
    "print(a(4))"
   ]
  },
  {
   "cell_type": "markdown",
   "metadata": {},
   "source": [
    "They can take multiple arguments."
   ]
  },
  {
   "cell_type": "code",
   "execution_count": 9,
   "metadata": {},
   "outputs": [
    {
     "name": "stdout",
     "output_type": "stream",
     "text": [
      "8\n"
     ]
    }
   ],
   "source": [
    "a = lambda x, y: x * y # Use two arguments, multiply them\n",
    "\n",
    "print(a(2, 4))"
   ]
  },
  {
   "cell_type": "markdown",
   "metadata": {},
   "source": [
    "Lambdas have many different uses, but most commonly you will be using them to define an operation to another function. For example lets square everythin in a list using a lambda."
   ]
  },
  {
   "cell_type": "code",
   "execution_count": 10,
   "metadata": {},
   "outputs": [
    {
     "name": "stdout",
     "output_type": "stream",
     "text": [
      "[1, 2, 3, 4, 5]\n",
      "[1, 4, 9, 16, 25]\n"
     ]
    }
   ],
   "source": [
    "a = [1, 2, 3, 4, 5]\n",
    "print(a)\n",
    "\n",
    "b = list(map(lambda x: x * x, a)) # Map applies the lambda function to each element in the list\n",
    "print(b)"
   ]
  },
  {
   "cell_type": "markdown",
   "metadata": {},
   "source": [
    "# Classes and Methods\n",
    "\n",
    "Classes in Python are defined using the `class` keyword followed by the name of the class. Their initialization function is defined by `__init__()`. To create an object you call them like you would a function, except they return an object. This is just a very brief overview, for more information see [here](https://www.w3schools.com/python/python_classes.asp)"
   ]
  },
  {
   "cell_type": "code",
   "execution_count": 11,
   "metadata": {},
   "outputs": [
    {
     "name": "stdout",
     "output_type": "stream",
     "text": [
      "Dog\n"
     ]
    }
   ],
   "source": [
    "class Animal: # Defines the Animal class\n",
    "\n",
    "    def __init__(self, name): # Note that self refers to the object. Think of it like 'this' if you come from Java or a c language\n",
    "\n",
    "        self.name = name # Create a variable name associated with the object, assign the name passed\n",
    "\n",
    "    def printName(self): # You can call self whatever you want, it's just convention to have it be self\n",
    "        print(self.name)\n",
    "\n",
    "dog = Animal(\"Dog\") # Make the object\n",
    "dog.printName() # Call our method"
   ]
  }
 ],
 "metadata": {
  "kernelspec": {
   "display_name": "Python 3.9.12 ('base')",
   "language": "python",
   "name": "python3"
  },
  "language_info": {
   "codemirror_mode": {
    "name": "ipython",
    "version": 3
   },
   "file_extension": ".py",
   "mimetype": "text/x-python",
   "name": "python",
   "nbconvert_exporter": "python",
   "pygments_lexer": "ipython3",
   "version": "3.9.12"
  },
  "orig_nbformat": 4,
  "vscode": {
   "interpreter": {
    "hash": "d4d1e4263499bec80672ea0156c357c1ee493ec2b1c70f0acce89fc37c4a6abe"
   }
  }
 },
 "nbformat": 4,
 "nbformat_minor": 2
}

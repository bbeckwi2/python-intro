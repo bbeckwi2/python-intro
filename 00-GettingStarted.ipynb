{
 "cells": [
  {
   "cell_type": "markdown",
   "metadata": {},
   "source": [
    "# Python Introduction\n",
    "\n",
    "Python is an object-oriented, interpreted scripting language that is commonly used in ML communities. The vast array of useful modules, such as NumPY and PyTorch, make it a powerful and flexible choice. \n",
    "\n",
    "Python was designed by Guido van Rossum in the very early 1990s as successor to ABC. Currently Python is maintained by the Python Software Foundation. More information about Python can be found in their [FAQs](https://docs.python.org/3/faq/general.html). \n",
    "\n",
    "## Features\n",
    "\n",
    "Python is a multi-paradigm programming language and supports:\n",
    " - Imperative programming\n",
    " - Object-oriented programming\n",
    " - Functional programming\n",
    "\n",
    "Some important features features include:\n",
    " - Object-Oriented\n",
    "    - Modules, classes, exceptions\n",
    " - Dynamically Typed\n",
    " - Automatic garbage collection (No memory management!)\n",
    " - Interpreted and interactive\n",
    " - Extensible\n",
    "    - Code can be written in lower level languages like C and be wrapped as a python module.\n",
    " - Large Standard Library\n",
    "    - Extensive, includes everything from regex libraries to websockets\n",
    " - PiPy and Conda.\n",
    "    - Massive repositories of useful modules\n",
    "\n",
    "## A 'High Level' Language\n",
    "\n",
    "Python is considered a high level scripting language. Scripts are interpreted, meaning that they aren't compiled before runtime. Generally this means interpreted languages are slower than compiled programs, but this is mitigated somewhat by using compiled libraries. Python can be used to quickly write scripts that make use of quick compiled libraries, providing us with quick development cycles and fairly quick execution times. \n",
    "\n",
    "Since Python is a scripting language it's commonly used as a 'glue' between programs. For example you could take the output of a C program, interpret it using a python script and pass it on to another program. Essentially 'gluing' them together."
   ]
  },
  {
   "cell_type": "markdown",
   "metadata": {},
   "source": [
    "\n",
    "# Installing Python\n",
    "\n",
    "For this course, and likely others, we will be using Conda to install and manage our Python packages and environments. Installation varies for each operating system and detailed guides provided by Anaconda are linked below.\n",
    "\n",
    "## Windows\n",
    "\n",
    "Make sure you add anaconda to your PATH during installation.\n",
    "\n",
    "[Instructions](https://docs.anaconda.com/anaconda/install/windows/)\n",
    "\n",
    "## macOS\n",
    "\n",
    "You can use the graphical installation method, but we will need to add it to path after.\n",
    "\n",
    "[Instructions](https://docs.anaconda.com/anaconda/install/mac-os/)\n",
    "\n",
    "When installation is complete open a terminal and run: `echo \"setenv PATH ~/opt/anaconda3/bin:$PATH\" >> ~/.cshrc`\n",
    "\n",
    "## Linux\n",
    "\n",
    "Installation will vary based on your distribution. Make sure you add anaconda to your path!\n",
    "\n",
    "[Instructions](https://docs.anaconda.com/anaconda/install/linux/)\n",
    "\n",
    "\n",
    "### If you have any questions please post to the discussion board or get in contact with a TA\n",
    "\n",
    "## Installing Packages\n",
    "\n",
    "If you have the GUI version of Anaconda packages can be installed using the GUI. If you don't have a GUI installation you can use a terminal. Best practices in Python highly suggest that you make and use an environment to install your packages to. IE [Example from numpy](https://numpy.org/install/).\n",
    "\n",
    "```\n",
    "# Best practice, use an environment rather than install in the base env\n",
    "conda create -n my-env\n",
    "conda activate my-env\n",
    "# If you want to install from conda-forge\n",
    "conda config --env --add channels conda-forge\n",
    "# The actual install command\n",
    "conda install numpy\n",
    "```\n",
    "\n",
    "PyTorch installations can be configured [Here](https://pytorch.org/get-started/locally/)"
   ]
  },
  {
   "cell_type": "markdown",
   "metadata": {},
   "source": [
    "# Running the Interpreter\n",
    "\n",
    "Now that Python is installed we can open the interpreter and run our first line of code.\n",
    "\n",
    "Open a terminal and run `python3`. This should bring up the interpreter.\n",
    "\n",
    "```\n",
    "bbeckwi2@cci:~$ python3\n",
    "Python 3.10.4 (main, Jun 29 2022, 12:14:53) [GCC 11.2.0] on linux\n",
    "Type \"help\", \"copyright\", \"credits\" or \"license\" for more information.\n",
    ">>> \n",
    "```\n",
    "\n",
    "We will print 'Hello world!' from python using the code below. Copy and paste it and hit enter."
   ]
  },
  {
   "cell_type": "code",
   "execution_count": 1,
   "metadata": {},
   "outputs": [
    {
     "name": "stdout",
     "output_type": "stream",
     "text": [
      "Hello World!\n"
     ]
    }
   ],
   "source": [
    "print('Hello World!')"
   ]
  },
  {
   "cell_type": "markdown",
   "metadata": {},
   "source": [
    "And with that installation should be complete. Modules can be installed as we need them. The rest of the notebooks are dedicated to explaining Python's syntax and some of it's inner workings."
   ]
  }
 ],
 "metadata": {
  "kernelspec": {
   "display_name": "Python 3.9.12 ('base')",
   "language": "python",
   "name": "python3"
  },
  "language_info": {
   "codemirror_mode": {
    "name": "ipython",
    "version": 3
   },
   "file_extension": ".py",
   "mimetype": "text/x-python",
   "name": "python",
   "nbconvert_exporter": "python",
   "pygments_lexer": "ipython3",
   "version": "3.9.12"
  },
  "orig_nbformat": 4,
  "vscode": {
   "interpreter": {
    "hash": "d4d1e4263499bec80672ea0156c357c1ee493ec2b1c70f0acce89fc37c4a6abe"
   }
  }
 },
 "nbformat": 4,
 "nbformat_minor": 2
}

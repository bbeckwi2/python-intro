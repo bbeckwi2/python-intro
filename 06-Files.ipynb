{
 "cells": [
  {
   "cell_type": "markdown",
   "metadata": {},
   "source": [
    "# File IO \n",
    "\n",
    "File IO in python is handled by `with open() as <var> :`, which will open a file for either read or write operations. You can find more information about [FileIO here](https://docs.python.org/3/tutorial/inputoutput.html#reading-and-writing-files).\n",
    "\n",
    "Lets open a file using `with open() as <var> :`."
   ]
  },
  {
   "cell_type": "code",
   "execution_count": 4,
   "metadata": {},
   "outputs": [
    {
     "name": "stdout",
     "output_type": "stream",
     "text": [
      "a\n",
      "b\n",
      "c\n",
      "d\n"
     ]
    }
   ],
   "source": [
    "with open(\"test.txt\", 'r') as f:  # Open a file as read only, store the value in f\n",
    "    print(f.read())\n"
   ]
  },
  {
   "cell_type": "markdown",
   "metadata": {},
   "source": [
    "Ah, that was easy. But what did we actually do?\n",
    "\n",
    "`open(<filepath>, <mode>)`. The `<filepath>` is the path to the file. In our case it would be 'test.txt'. The `<mode>` is the read / write mode. For now we use '`r`' to open the file in *read only* mode, meaning we can't make edits to the file.\n",
    "\n",
    "`f.read()` reads then entire file and places it into a string. \n"
   ]
  },
  {
   "cell_type": "code",
   "execution_count": 5,
   "metadata": {},
   "outputs": [
    {
     "name": "stdout",
     "output_type": "stream",
     "text": [
      "a\n",
      "b\n",
      "c\n",
      "d\n",
      "<class 'str'>\n"
     ]
    }
   ],
   "source": [
    "text = \"\"\n",
    "with open('test.txt', 'r') as f:\n",
    "    text = f.read() # Read the contents, store it to a variable\n",
    "\n",
    "print(text) # Print the contents\n",
    "print(type(text)) # Check the type\n"
   ]
  },
  {
   "cell_type": "markdown",
   "metadata": {},
   "source": [
    "## Reading line by line\n",
    "\n",
    "`f.readlines()` Reads all the lines from the file and places them into a list. As you can see below, each line got it's own element. Notice that the strings for each line contain formatting information. In this case newlines '\\n'.\n"
   ]
  },
  {
   "cell_type": "code",
   "execution_count": 6,
   "metadata": {},
   "outputs": [
    {
     "name": "stdout",
     "output_type": "stream",
     "text": [
      "['a\\n', 'b\\n', 'c\\n', 'd']\n"
     ]
    }
   ],
   "source": [
    "with open('test.txt', 'r') as f:\n",
    "    text = f.readlines() # Read the contents, store the contents in a list\n",
    "    print(text)\n"
   ]
  },
  {
   "cell_type": "markdown",
   "metadata": {},
   "source": [
    "We can iterate over the contents of the list like normal. This is very useful for reading in data since each value is automatically stored in it's own element!"
   ]
  },
  {
   "cell_type": "code",
   "execution_count": 8,
   "metadata": {},
   "outputs": [
    {
     "name": "stdout",
     "output_type": "stream",
     "text": [
      "a\n",
      "\n",
      "b\n",
      "\n",
      "c\n",
      "\n",
      "d\n"
     ]
    }
   ],
   "source": [
    "with open('test.txt', 'r') as f:\n",
    "    for l in f.readlines(): # Using the list in for loop\n",
    "        print(l)"
   ]
  },
  {
   "cell_type": "markdown",
   "metadata": {},
   "source": [
    "Weird, we have a blank line between each value. This is because of the '\\n' that's included at the end of each string. We can **strip** it by using `strip()`"
   ]
  },
  {
   "cell_type": "code",
   "execution_count": 9,
   "metadata": {},
   "outputs": [
    {
     "name": "stdout",
     "output_type": "stream",
     "text": [
      "a\n",
      "b\n",
      "c\n",
      "d\n"
     ]
    }
   ],
   "source": [
    "with open('test.txt', 'r') as f:\n",
    "    for l in f: # Don't need readlines, Python will automatically make this into an iterator\n",
    "        print(l.strip()) # Strip the newline value"
   ]
  },
  {
   "cell_type": "markdown",
   "metadata": {},
   "source": [
    "There. Now we could put those values in an array and use them elsewhere."
   ]
  },
  {
   "cell_type": "code",
   "execution_count": 12,
   "metadata": {},
   "outputs": [
    {
     "name": "stdout",
     "output_type": "stream",
     "text": [
      "['a', 'b', 'c', 'd']\n"
     ]
    }
   ],
   "source": [
    "contents = [] \n",
    "with open('test.txt', 'r') as f:\n",
    "    for l in f:\n",
    "        contents.append(l.strip())\n",
    "\n",
    "print(contents)"
   ]
  },
  {
   "cell_type": "markdown",
   "metadata": {},
   "source": [
    "An important thing to note that the file is opened as a *buffer*. Meaning that after you make it to the end of it... you can't iterate over it again."
   ]
  },
  {
   "cell_type": "code",
   "execution_count": 13,
   "metadata": {},
   "outputs": [
    {
     "name": "stdout",
     "output_type": "stream",
     "text": [
      "a\n",
      "b\n",
      "c\n",
      "d\n"
     ]
    }
   ],
   "source": [
    "with open('test.txt', 'r') as f:\n",
    "\n",
    "    # Read once...\n",
    "    for l in f:\n",
    "        print(l.strip())\n",
    "\n",
    "    # Read again...\n",
    "    for l in f:\n",
    "        print(l.strip())"
   ]
  },
  {
   "cell_type": "markdown",
   "metadata": {},
   "source": [
    "Only one set prints because we reached the end of the buffer.\n",
    "\n",
    "If you are processing data and using it elsewhere it's best to open the file, iterate over it using `readlines` and process the data in the `with open`, then step back out and use it elsewhere. If you just want the data in a blob use `read`."
   ]
  },
  {
   "cell_type": "markdown",
   "metadata": {},
   "source": [
    "## Writing to file\n",
    "\n",
    "Writing to file uses the same format as reading. Instead of using 'r' in the `<mode>` parameter we use 'w' for write and 'a' for append. Writing overwrites the entire file. Append adds the text to the end of the file. "
   ]
  },
  {
   "cell_type": "code",
   "execution_count": 14,
   "metadata": {},
   "outputs": [],
   "source": [
    "with open(\"test2.txt\", 'w') as f: # Open in 'write' mode\n",
    "    f.write(\"Hello World\\n\") # Write the line to file "
   ]
  },
  {
   "cell_type": "markdown",
   "metadata": {},
   "source": [
    "Now that we have a file, lets 'append' to it. Note that we used '\\n' above in our string. This makes it so we create a new line for the next line of text. "
   ]
  },
  {
   "cell_type": "code",
   "execution_count": 15,
   "metadata": {},
   "outputs": [],
   "source": [
    "with open(\"test2.txt\", 'a') as f: # Open in 'append' mode\n",
    "    f.write(\"Hello World\") # Append the line to file "
   ]
  },
  {
   "cell_type": "markdown",
   "metadata": {},
   "source": [
    "After running the code above we can see that the line as been appended. Feel free to run these two cells at many times as you want to get familiar with the differences. "
   ]
  }
 ],
 "metadata": {
  "kernelspec": {
   "display_name": "Python 3.9.12 ('base')",
   "language": "python",
   "name": "python3"
  },
  "language_info": {
   "codemirror_mode": {
    "name": "ipython",
    "version": 3
   },
   "file_extension": ".py",
   "mimetype": "text/x-python",
   "name": "python",
   "nbconvert_exporter": "python",
   "pygments_lexer": "ipython3",
   "version": "3.9.12"
  },
  "orig_nbformat": 4,
  "vscode": {
   "interpreter": {
    "hash": "d4d1e4263499bec80672ea0156c357c1ee493ec2b1c70f0acce89fc37c4a6abe"
   }
  }
 },
 "nbformat": 4,
 "nbformat_minor": 2
}

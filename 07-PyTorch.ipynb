{
 "cells": [
  {
   "cell_type": "markdown",
   "metadata": {},
   "source": [
    "# PyTorch\n",
    "\n",
    "[PyTorch](https://pytorch.org/) is a machine learning framework based on [Torch](https://en.wikipedia.org/wiki/Torch_(machine_learning)), which is no longer developed. There are two high level concepts you need to be familiar with, Tensors and Auto-Grad. "
   ]
  },
  {
   "cell_type": "markdown",
   "metadata": {},
   "source": [
    "# Installing PyTorch\n",
    "PyTorch is well documented and provides easy [installation instructions](https://pytorch.org/get-started/locally/). Generally you're going to be installing it to a conda environment, so the command below should be enough to get it on your system.\n",
    "\n",
    "```\n",
    "conda install pytorch torchvision torchaudio cpuonly -c pytorch\n",
    "```\n",
    "\n",
    "If you struggle with installation, run into any errors or have any concerns don't hesistate to reach out!"
   ]
  },
  {
   "cell_type": "markdown",
   "metadata": {},
   "source": [
    "# Using PyTorch\n",
    "It all starts with a simple import. From there we can explore the functionality PyTorch has to offer."
   ]
  },
  {
   "cell_type": "code",
   "execution_count": 11,
   "metadata": {},
   "outputs": [
    {
     "name": "stdout",
     "output_type": "stream",
     "text": [
      "1.10.2\n"
     ]
    }
   ],
   "source": [
    "import torch # It all starts with a simple import...\n",
    "\n",
    "print(torch.__version__) # Version check!"
   ]
  },
  {
   "cell_type": "markdown",
   "metadata": {},
   "source": [
    "Let's see what modules we have available..."
   ]
  },
  {
   "cell_type": "code",
   "execution_count": 15,
   "metadata": {},
   "outputs": [
    {
     "name": "stdout",
     "output_type": "stream",
     "text": [
      "[   'os',\n",
      "    'sys',\n",
      "    'platform',\n",
      "    'textwrap',\n",
      "    'ctypes',\n",
      "    'warnings',\n",
      "    'autocast_mode',\n",
      "    '_utils',\n",
      "    '_utils_internal',\n",
      "    'version',\n",
      "    'torch_version',\n",
      "    '_six',\n",
      "    '_C',\n",
      "    'cpp',\n",
      "    '_namedtensor_internals',\n",
      "    'overrides',\n",
      "    'utils',\n",
      "    '_tensor',\n",
      "    'storage',\n",
      "    'random',\n",
      "    '_sources',\n",
      "    'types',\n",
      "    'serialization',\n",
      "    '_tensor_str',\n",
      "    'cuda',\n",
      "    'sparse',\n",
      "    '_VF',\n",
      "    'distributed',\n",
      "    'futures',\n",
      "    'testing',\n",
      "    '_vmap_internals',\n",
      "    'autograd',\n",
      "    'package',\n",
      "    '_jit_internal',\n",
      "    'nn',\n",
      "    '_linalg_utils',\n",
      "    '_lowrank',\n",
      "    'functional',\n",
      "    'cpu',\n",
      "    'fft',\n",
      "    'torch',\n",
      "    'backends',\n",
      "    '_classes',\n",
      "    'jit',\n",
      "    '_ops',\n",
      "    'ao',\n",
      "    'optim',\n",
      "    'multiprocessing',\n",
      "    'special',\n",
      "    'onnx',\n",
      "    'linalg',\n",
      "    'hub',\n",
      "    'distributions',\n",
      "    'quantization',\n",
      "    '__config__',\n",
      "    '__future__',\n",
      "    'profiler',\n",
      "    'ops',\n",
      "    'classes',\n",
      "    'quasirandom',\n",
      "    '_lobpcg']\n"
     ]
    }
   ],
   "source": [
    "from types import ModuleType\n",
    "\n",
    "pp = pprint.PrettyPrinter(indent=4)\n",
    "\n",
    "modules = [[]]\n",
    "\n",
    "for k, v in torch.__dict__.items():\n",
    "    if isinstance(v, ModuleType):\n",
    "        modules.append(k)\n",
    "\n",
    "pp.pprint(modules)"
   ]
  }
 ],
 "metadata": {
  "kernelspec": {
   "display_name": "Python 3.9.12 ('base')",
   "language": "python",
   "name": "python3"
  },
  "language_info": {
   "codemirror_mode": {
    "name": "ipython",
    "version": 3
   },
   "file_extension": ".py",
   "mimetype": "text/x-python",
   "name": "python",
   "nbconvert_exporter": "python",
   "pygments_lexer": "ipython3",
   "version": "3.9.12"
  },
  "orig_nbformat": 4,
  "vscode": {
   "interpreter": {
    "hash": "d4d1e4263499bec80672ea0156c357c1ee493ec2b1c70f0acce89fc37c4a6abe"
   }
  }
 },
 "nbformat": 4,
 "nbformat_minor": 2
}
